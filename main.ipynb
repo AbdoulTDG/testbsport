{
 "cells": [
  {
   "cell_type": "code",
   "execution_count": 121,
   "metadata": {},
   "outputs": [],
   "source": [
    "# Bibliothèques\n",
    "from hubspot.crm.contacts import SimplePublicObjectInput\n",
    "from hubspot.crm.contacts.exceptions import ApiException\n",
    "from hubspot import HubSpot\n"
   ]
  },
  {
   "cell_type": "code",
   "execution_count": 122,
   "metadata": {},
   "outputs": [],
   "source": [
    "# Connection à l'API\n",
    "api_client = HubSpot(access_token=token)"
   ]
  },
  {
   "cell_type": "code",
   "execution_count": null,
   "metadata": {},
   "outputs": [],
   "source": []
  },
  {
   "attachments": {},
   "cell_type": "markdown",
   "metadata": {},
   "source": [
    "# Récupération des infos des deals"
   ]
  },
  {
   "cell_type": "code",
   "execution_count": 134,
   "metadata": {},
   "outputs": [],
   "source": [
    "# Récupération du montant total des deals sans pondération\n",
    "def total_deal_value():\n",
    "    \n",
    "    # Recupération des ids des deals (si on considère que tous les deals sont associés à une seule entreprise)\n",
    "    deals_id=[]\n",
    "    deals=api_client.crm.deals.get_all()\n",
    "    for deal in deals:\n",
    "        deals_id.append(deal.to_dict()[\"id\"])\n",
    "\n",
    "    montant_deals=0\n",
    "    for id in deals_id:\n",
    "        deal_data=api_client.crm.deals.basic_api.get_by_id(id,properties=[\"amount\"]).to_dict()\n",
    "        montant_deals+=float(deal_data[\"properties\"][\"amount\"])\n",
    "    return montant_deals"
   ]
  },
  {
   "cell_type": "code",
   "execution_count": 124,
   "metadata": {},
   "outputs": [],
   "source": [
    "# Calcul du montant total des deals avec pondération\n",
    "\n",
    "def total_deal_value_weighted():\n",
    "\n",
    "    # Recupération des ids des deals (si on considère que tous les deals sont associés à une seule entreprise)\n",
    "    deals_id=[]\n",
    "    deals=api_client.crm.deals.get_all()\n",
    "    for deal in deals:\n",
    "        deals_id.append(deal.to_dict()[\"id\"])\n",
    "    \n",
    "    # Calcul du montant total des deals avec pondération\n",
    "    montant_deals_pond=0\n",
    "    for id in deals_id:\n",
    "        deal_data=api_client.crm.deals.basic_api.get_by_id(id,properties=[\"amount\",\"hs_deal_stage_probability\"]).to_dict()\n",
    "        montant_deals_pond+=float(deal_data[\"properties\"][\"amount\"]) * float(deal_data[\"properties\"][\"hs_deal_stage_probability\"])\n",
    "    return montant_deals_pond\n"
   ]
  },
  {
   "attachments": {},
   "cell_type": "markdown",
   "metadata": {},
   "source": [
    "### Update du montant d'un deal\n"
   ]
  },
  {
   "cell_type": "code",
   "execution_count": 125,
   "metadata": {},
   "outputs": [],
   "source": [
    "def update_deal(deal_id,amount):\n",
    "    try:\n",
    "        update_montant_deal = SimplePublicObjectInput(\n",
    "                    properties={\"amount\":amount})\n",
    "        api_client.crm.deals.basic_api.update(simple_public_object_input=update_montant_deal,deal_id=deal_id)\n",
    "        return print(f\"Deal {deal_id} updated\")\n",
    "    except ApiException as deal:\n",
    "        return print(\"Exception when updatin deal: %s\\n\" %deal)  \n",
    "    "
   ]
  },
  {
   "attachments": {},
   "cell_type": "markdown",
   "metadata": {},
   "source": [
    "# Contacts"
   ]
  },
  {
   "cell_type": "code",
   "execution_count": 126,
   "metadata": {},
   "outputs": [],
   "source": [
    "# Calcul du nombre de contacts dont En poste = Oui\n",
    "\n",
    "def count_en_poste(etat=\"Oui\"):\n",
    "\n",
    "    # Récupération des id des contacts\n",
    "    contacts_id=[]\n",
    "    contacts=api_client.crm.contacts.get_all()\n",
    "    for contact in contacts:\n",
    "        contacts_id.append(contact.to_dict()[\"id\"])\n",
    "\n",
    "    # Calcul du nombre de contact selon l'état de l'attribut en poste\n",
    "    cpt_en_poste=0\n",
    "    for id in contacts_id:\n",
    "        contact_data=api_client.crm.contacts.basic_api.get_by_id(id,properties=[\"en_poste\"]).to_dict()\n",
    "        if contact_data[\"properties\"][\"en_poste\"] == etat:\n",
    "            cpt_en_poste+=1\n",
    "    return cpt_en_poste"
   ]
  },
  {
   "cell_type": "code",
   "execution_count": 127,
   "metadata": {},
   "outputs": [],
   "source": [
    "# Propriétaire actuel\n",
    "\n",
    "def update_owner():\n",
    "    owner_id=api_client.crm.companies.basic_api.get_by_id(7496989169,properties=[\"hubspot_owner_id\"]).to_dict()\n",
    "    owner_id=owner_id[\"properties\"][\"hubspot_owner_id\"]\n",
    "    owner_data=api_client.crm.owners.owners_api.get_by_id(owner_id).to_dict()\n",
    "    return [owner_data[\"first_name\"],owner_data[\"last_name\"]]"
   ]
  },
  {
   "attachments": {},
   "cell_type": "markdown",
   "metadata": {},
   "source": [
    "# Mise à jour des infos de l'entreprise"
   ]
  },
  {
   "cell_type": "code",
   "execution_count": 128,
   "metadata": {},
   "outputs": [
    {
     "name": "stdout",
     "output_type": "stream",
     "text": [
      "company updated\n"
     ]
    }
   ],
   "source": [
    "# Mise à jour des infos de l'entreprise\n",
    "\n",
    "def update_company(comp_id=\"7496989169\"):\n",
    "        try:\n",
    "                update_montant_tot_deals = SimplePublicObjectInput(properties={\n",
    "                \"valeur_totale_des_deals\":total_deal_value() ,\n",
    "                \"valeur_totale_des_deals_ponderee\":total_deal_value_weighted(),\n",
    "                \"nombre_de_points_de_contacts_en_poste\": count_en_poste(),\n",
    "                \"nom_du_dirigeant\":update_owner()[1],\n",
    "                \"prenom_du_dirigeant\":update_owner()[0]})\n",
    "                api_client.crm.companies.basic_api.update(simple_public_object_input=update_montant_tot_deals,company_id=comp_id)\n",
    "                return print(\"company updated\")\n",
    "        except ApiException as update:\n",
    "                return print(\"Exception when updating company: %s\\n\" % update)\n",
    "update_company()\n",
    "        "
   ]
  },
  {
   "cell_type": "code",
   "execution_count": 130,
   "metadata": {},
   "outputs": [],
   "source": [
    "# Récupération des infos de l'entreprise\n",
    "\n",
    "def comp_info(comp_id=\"7496989169\"):\n",
    "    company_data=api_client.crm.companies.basic_api.get_by_id(comp_id,properties=[\"name\",\"city\",\"country\",\"industry\",\n",
    "                                                                             \"nom_du_dirigeant\",\"prenom_du_dirigeant\",\n",
    "                                                                             \"numberofemployees\",\"valeur_totale_des_deals\",\n",
    "                                                                             \"valeur_totale_des_deals_ponderee\",\"num_associated_deals\",\n",
    "                                                                             \"nombre_de_points_de_contacts_en_poste\",\n",
    "                                                                             \"nombre_de_points_de_contacts_en_poste\"]).to_dict()\n",
    "    return company_data[\"properties\"]"
   ]
  },
  {
   "cell_type": "code",
   "execution_count": null,
   "metadata": {},
   "outputs": [],
   "source": []
  }
 ],
 "metadata": {
  "kernelspec": {
   "display_name": "env",
   "language": "python",
   "name": "python3"
  },
  "language_info": {
   "codemirror_mode": {
    "name": "ipython",
    "version": 3
   },
   "file_extension": ".py",
   "mimetype": "text/x-python",
   "name": "python",
   "nbconvert_exporter": "python",
   "pygments_lexer": "ipython3",
   "version": "3.10.6"
  },
  "orig_nbformat": 4
 },
 "nbformat": 4,
 "nbformat_minor": 2
}
