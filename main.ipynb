{
 "cells": [
  {
   "cell_type": "code",
   "execution_count": 203,
   "metadata": {},
   "outputs": [],
   "source": [
    "token=\"pat-eu1-52e0d25c-7a77-4128-bf28-4787e96528bf\"\n",
    "\n",
    "\n",
    "# Bibliothèques\n",
    "from hubspot.crm.contacts import SimplePublicObjectInput\n",
    "from hubspot.crm.contacts.exceptions import ApiException\n",
    "from hubspot import HubSpot\n"
   ]
  },
  {
   "cell_type": "code",
   "execution_count": 204,
   "metadata": {},
   "outputs": [],
   "source": [
    "# Connection à l'API\n",
    "api_client = HubSpot(access_token=token)"
   ]
  },
  {
   "attachments": {},
   "cell_type": "markdown",
   "metadata": {},
   "source": [
    "# Valeur totale des deals avec et sans pondération"
   ]
  },
  {
   "attachments": {},
   "cell_type": "markdown",
   "metadata": {},
   "source": [
    "### Récupération des infos de l'entreprise"
   ]
  },
  {
   "cell_type": "code",
   "execution_count": 205,
   "metadata": {},
   "outputs": [
    {
     "data": {
      "text/plain": [
       "{'createdate': '2023-04-28T09:53:40.624Z',\n",
       " 'hs_lastmodifieddate': '2023-04-30T13:19:47.041Z',\n",
       " 'hs_object_id': '7496989169',\n",
       " 'hs_predictivecontactscore_v2': '3.6',\n",
       " 'hubspot_owner_id': '919776484',\n",
       " 'nombre_de_points_de_contacts_en_poste': '8',\n",
       " 'valeur_totale_des_deals': '405498.0',\n",
       " 'valeur_totale_des_deals_ponderee': '197168.2'}"
      ]
     },
     "execution_count": 205,
     "metadata": {},
     "output_type": "execute_result"
    }
   ],
   "source": [
    "id=7496989169\n",
    "# Récupération de toute les propriété d'une entreprise\n",
    "# api_client.crm.properties.core_api.get_all(object_type=\"companies\")\n",
    "\n",
    "# properties=[\"name\",\"city\",\"country\",\"industry\",\"hs_analytics_num_visits\",\"hs_annual_revenue_currency_code\",\"total_money_raised\",\"total_revenue\",\"valeur_totale_des_deals\",\"valeur_totale_des_deals_ponderee\",\"owneremail\",\"numberofemployees\",\"hs_total_deal_value\",\"total_money_raised\",\"hs_predictivecontactscore_v2\",\"hs_target_account_probability\",\"hs_predictivecontactscore_v2_next_max_max_d4e58c1e\",\"num_associated_contacts\",\"num_conversion_events\",\"num_conversion_events_cardinality_sum_d095f14b\"]\n",
    "properties_needed=[\"hs_predictivecontactscore_v2\",\"valeur_totale_des_deals\",\"valeur_totale_des_deals_ponderee\",\"nombre_de_points_de_contacts_en_poste\",\"hubspot_owner_id\"]\n",
    "company=api_client.crm.companies.basic_api.get_by_id(id,properties=properties_needed)\n",
    "company_data=company.to_dict()\n",
    "company_data[\"properties\"]"
   ]
  },
  {
   "attachments": {},
   "cell_type": "markdown",
   "metadata": {},
   "source": [
    "# Récupération des infos des deals"
   ]
  },
  {
   "cell_type": "code",
   "execution_count": 206,
   "metadata": {},
   "outputs": [
    {
     "data": {
      "text/plain": [
       "['7280660186', '7280697021', '7280697041']"
      ]
     },
     "execution_count": 206,
     "metadata": {},
     "output_type": "execute_result"
    }
   ],
   "source": [
    "# Recupération des ids des deals (si on considère que tous les deals sont associés à une seule entreprise)\n",
    "deals_id=[]\n",
    "deals=api_client.crm.deals.get_all()\n",
    "for deal in deals:\n",
    "    deals_id.append(deal.to_dict()[\"id\"])\n",
    "deals_id"
   ]
  },
  {
   "cell_type": "code",
   "execution_count": 207,
   "metadata": {},
   "outputs": [
    {
     "name": "stdout",
     "output_type": "stream",
     "text": [
      "Deal: 7280660186 \n",
      "{'amount': '25400', 'createdate': '2023-04-28T09:55:04.007Z', 'hs_deal_stage_probability': '0.200000000000000011102230246251565404236316680908203125', 'hs_lastmodifieddate': '2023-04-30T01:31:20.094Z', 'hs_object_id': '7280660186'}\n",
      "Deal: 7280697021 \n",
      "{'amount': '300000', 'createdate': '2023-04-28T09:56:12.025Z', 'hs_deal_stage_probability': '0.40000000000000002220446049250313080847263336181640625', 'hs_lastmodifieddate': '2023-04-29T12:14:08.235Z', 'hs_object_id': '7280697021'}\n",
      "Deal: 7280697041 \n",
      "{'amount': '80098', 'createdate': '2023-04-28T09:57:05.960Z', 'hs_deal_stage_probability': '0.90000000000000002220446049250313080847263336181640625', 'hs_lastmodifieddate': '2023-04-29T12:13:43.668Z', 'hs_object_id': '7280697041'}\n"
     ]
    }
   ],
   "source": [
    "# deal1=7280660186\n",
    "# deal2=7280697021\n",
    "# deal3=7280697041\n",
    "# Récupération de toute les propriété d'un deal\n",
    "# api_client.crm.properties.core_api.get_all(object_type=\"deals\")\n",
    "\n",
    "#properties=[\"amount\",\"hs_likelihood_to_close\",\"hs_predicted_amount\",\"hs_priority\",\"hs_closed_amount\",\"hs_deal_stage_probability\",\"hs_deal_stage_probability_shadow\",\"hs_forecast_amount\",\"hs_forecast_probability\",\"hs_is_closed\",\"hs_is_closed_won\",\"hs_projected_amount\",\"num_associated_contacts\"]\n",
    "properties_needed=[\"amount\",\"hs_deal_stage_probability\"]\n",
    "for id in deals_id :\n",
    "    deal=api_client.crm.deals.basic_api.get_by_id(id,properties=properties_needed)\n",
    "    deal_data=deal.to_dict()\n",
    "    print(f\"Deal: {id} \")\n",
    "    print(deal_data[\"properties\"])"
   ]
  },
  {
   "cell_type": "code",
   "execution_count": 208,
   "metadata": {},
   "outputs": [
    {
     "name": "stdout",
     "output_type": "stream",
     "text": [
      "405498.0\n"
     ]
    }
   ],
   "source": [
    "# Récupération du montant total des deals sans pondération\n",
    "#deals_id=[deal1,deal2,deal3]\n",
    "montant_deals=0\n",
    "for id in deals_id:\n",
    "    deal=api_client.crm.deals.basic_api.get_by_id(id)\n",
    "    deal_data=deal.to_dict()\n",
    "    montant_deals+=float(deal_data[\"properties\"][\"amount\"])\n",
    "print(montant_deals)\n"
   ]
  },
  {
   "cell_type": "code",
   "execution_count": 248,
   "metadata": {},
   "outputs": [
    {
     "ename": "KeyError",
     "evalue": "'amount'",
     "output_type": "error",
     "traceback": [
      "\u001b[0;31m---------------------------------------------------------------------------\u001b[0m",
      "\u001b[0;31mKeyError\u001b[0m                                  Traceback (most recent call last)",
      "Cell \u001b[0;32mIn[248], line 19\u001b[0m\n\u001b[1;32m     16\u001b[0m         montant_deals_pond\u001b[39m+\u001b[39m\u001b[39m=\u001b[39m\u001b[39mfloat\u001b[39m(deal_data[\u001b[39m\"\u001b[39m\u001b[39mproperties\u001b[39m\u001b[39m\"\u001b[39m][\u001b[39m\"\u001b[39m\u001b[39mamount\u001b[39m\u001b[39m\"\u001b[39m]) \u001b[39m*\u001b[39m \u001b[39mfloat\u001b[39m(deal_data[\u001b[39m\"\u001b[39m\u001b[39mproperties\u001b[39m\u001b[39m\"\u001b[39m][\u001b[39m\"\u001b[39m\u001b[39mhs_deal_stage_probability\u001b[39m\u001b[39m\"\u001b[39m])\n\u001b[1;32m     17\u001b[0m     \u001b[39mreturn\u001b[39;00m montant_deals_pond\n\u001b[0;32m---> 19\u001b[0m total_deal_value_weighted()\n",
      "Cell \u001b[0;32mIn[248], line 16\u001b[0m, in \u001b[0;36mtotal_deal_value_weighted\u001b[0;34m()\u001b[0m\n\u001b[1;32m     14\u001b[0m     deal\u001b[39m=\u001b[39mapi_client\u001b[39m.\u001b[39mcrm\u001b[39m.\u001b[39mdeals\u001b[39m.\u001b[39mbasic_api\u001b[39m.\u001b[39mget_by_id(\u001b[39mid\u001b[39m,properties\u001b[39m=\u001b[39mproperties_needed)\n\u001b[1;32m     15\u001b[0m     deal_data\u001b[39m=\u001b[39mdeal\u001b[39m.\u001b[39mto_dict()\n\u001b[0;32m---> 16\u001b[0m     montant_deals_pond\u001b[39m+\u001b[39m\u001b[39m=\u001b[39m\u001b[39mfloat\u001b[39m(deal_data[\u001b[39m\"\u001b[39;49m\u001b[39mproperties\u001b[39;49m\u001b[39m\"\u001b[39;49m][\u001b[39m\"\u001b[39;49m\u001b[39mamount\u001b[39;49m\u001b[39m\"\u001b[39;49m]) \u001b[39m*\u001b[39m \u001b[39mfloat\u001b[39m(deal_data[\u001b[39m\"\u001b[39m\u001b[39mproperties\u001b[39m\u001b[39m\"\u001b[39m][\u001b[39m\"\u001b[39m\u001b[39mhs_deal_stage_probability\u001b[39m\u001b[39m\"\u001b[39m])\n\u001b[1;32m     17\u001b[0m \u001b[39mreturn\u001b[39;00m montant_deals_pond\n",
      "\u001b[0;31mKeyError\u001b[0m: 'amount'"
     ]
    }
   ],
   "source": [
    "# Calcul du montant total des deals avec pondération\n",
    "\n",
    "def total_deal_value_weighted(properties):\n",
    "\n",
    "    # Recupération des ids des deals (si on considère que tous les deals sont associés à une seule entreprise)\n",
    "    deals_id=[]\n",
    "    deals=api_client.crm.deals.get_all()\n",
    "    for deal in deals:\n",
    "        deals_id.append(deal.to_dict()[\"id\"])\n",
    "    \n",
    "    # Calcul du montant total des deals avec pondération\n",
    "    montant_deals_pond=0\n",
    "    for id in deals_id:\n",
    "        deal=api_client.crm.deals.basic_api.get_by_id(id,properties=properties_needed)\n",
    "        deal_data=deal.to_dict()\n",
    "        montant_deals_pond+=float(deal_data[\"properties\"][\"amount\"]) * float(deal_data[\"properties\"][\"hs_deal_stage_probability\"])\n",
    "    return montant_deals_pond\n",
    "\n",
    "total_deal_value_weighted()\n"
   ]
  },
  {
   "attachments": {},
   "cell_type": "markdown",
   "metadata": {},
   "source": [
    "### Update du montant d'un deal\n"
   ]
  },
  {
   "cell_type": "code",
   "execution_count": 210,
   "metadata": {},
   "outputs": [],
   "source": [
    "# deal_id=\"\"\n",
    "# new_amount= 0\n",
    "# update_montant_deal = SimplePublicObjectInput(\n",
    "#         properties={\"amount\":new_amount})\n",
    "# api_client.crm.companies.basic_api.update(simple_public_object_input=update_montant_deal,company_id=deal_id)"
   ]
  },
  {
   "attachments": {},
   "cell_type": "markdown",
   "metadata": {},
   "source": [
    "# Contacts"
   ]
  },
  {
   "cell_type": "code",
   "execution_count": 247,
   "metadata": {},
   "outputs": [
    {
     "data": {
      "text/plain": [
       "8"
      ]
     },
     "execution_count": 247,
     "metadata": {},
     "output_type": "execute_result"
    }
   ],
   "source": [
    "# Calcul du nombre de contacts dont En poste = Oui\n",
    "\n",
    "def count_en_poste(etat=\"Oui\"):\n",
    "\n",
    "    # Récupération des id des contacts\n",
    "    contacts_id=[]\n",
    "    contacts=api_client.crm.contacts.get_all()\n",
    "    for contact in contacts:\n",
    "        contacts_id.append(contact.to_dict()[\"id\"])\n",
    "\n",
    "    # Calcul du nombre de contact selon l'état de l'attribut en poste\n",
    "    cpt_en_poste=0\n",
    "    for id in contacts_id:\n",
    "        contact_data=api_client.crm.contacts.basic_api.get_by_id(id,properties=[\"en_poste\"]).to_dict()\n",
    "        if contact_data[\"properties\"][\"en_poste\"] == etat:\n",
    "            cpt_en_poste+=1\n",
    "    return cpt_en_poste\n",
    "count_en_poste()\n"
   ]
  },
  {
   "cell_type": "code",
   "execution_count": 245,
   "metadata": {},
   "outputs": [],
   "source": [
    "# Propriétaire actuel\n",
    "\n",
    "def update_owner():\n",
    "    owner_id=api_client.crm.companies.basic_api.get_by_id(id,properties=[\"hubspot_owner_id\"]).to_dict()\n",
    "    owner_id=owner_id[\"properties\"][\"hubspot_owner_id\"]\n",
    "    owner_data=api_client.crm.owners.owners_api.get_by_id(owner_id).to_dict()\n",
    "    return [[\"first_name\"],[\"last_name\"]]"
   ]
  },
  {
   "attachments": {},
   "cell_type": "markdown",
   "metadata": {},
   "source": [
    "# Mise à jour des infos de l'entreprise"
   ]
  },
  {
   "cell_type": "code",
   "execution_count": 240,
   "metadata": {},
   "outputs": [
    {
     "name": "stdout",
     "output_type": "stream",
     "text": [
      "company updated\n"
     ]
    }
   ],
   "source": [
    "# Mise à jour des infos de l'entreprise\n",
    "comp_id=\"7496989169\"\n",
    "properties={\n",
    "                \"valeur_totale_des_deals\":montant_deals ,\n",
    "                \"valeur_totale_des_deals_ponderee\":montant_deals_pond,\n",
    "                \"nombre_de_points_de_contacts_en_poste\": count_en_poste(),\n",
    "                \"nom_du_dirigeant\":update_owner()[1],\n",
    "                \"prenom_du_dirigeant\":update_owner()[2]}\n",
    "def update_company(comp_id,properties):\n",
    "        try:\n",
    "                update_montant_tot_deals = SimplePublicObjectInput(properties=properties)\n",
    "                api_client.crm.companies.basic_api.update(simple_public_object_input=update_montant_tot_deals,company_id=comp_id)\n",
    "                return print(\"company updated\")\n",
    "        except ApiException as update:\n",
    "                return print(\"Exception when updating company: %s\\n\" % update)\n",
    "update_company(comp_id,properties)\n",
    "        "
   ]
  },
  {
   "cell_type": "code",
   "execution_count": 239,
   "metadata": {},
   "outputs": [
    {
     "data": {
      "text/plain": [
       "{'city': 'Grenoble',\n",
       " 'country': 'France',\n",
       " 'createdate': '2023-04-28T09:53:40.624Z',\n",
       " 'hs_lastmodifieddate': '2023-04-30T14:20:50.150Z',\n",
       " 'hs_object_id': '7496989169',\n",
       " 'industry': 'INFORMATION_TECHNOLOGY_AND_SERVICES',\n",
       " 'name': 'company',\n",
       " 'nom_du_dirigeant': 'company',\n",
       " 'nombre_de_points_de_contacts_en_poste': '8',\n",
       " 'num_associated_deals': '3',\n",
       " 'numberofemployees': '20',\n",
       " 'prenom_du_dirigeant': 'owner',\n",
       " 'valeur_totale_des_deals': '405498.0',\n",
       " 'valeur_totale_des_deals_ponderee': '197168.2'}"
      ]
     },
     "execution_count": 239,
     "metadata": {},
     "output_type": "execute_result"
    }
   ],
   "source": [
    "# Récupération des infos de l'entreprise\n",
    "\n",
    "comp_id=7496989169\n",
    "properties=[\"name\",\"city\",\"country\",\"industry\",\"nom_du_dirigeant\",\"prenom_du_dirigeant\",\"numberofemployees\",\"valeur_totale_des_deals\",\"valeur_totale_des_deals_ponderee\",\"num_associated_deals\",\"nombre_de_points_de_contacts_en_poste\",\"nombre_de_points_de_contacts_en_poste\"]\n",
    "def comp_info(comp_id,properties):\n",
    "    company_data=api_client.crm.companies.basic_api.get_by_id(id,properties=properties).to_dict()\n",
    "    return company_data[\"properties\"]\n",
    "comp_info(comp_id,properties)"
   ]
  },
  {
   "cell_type": "code",
   "execution_count": null,
   "metadata": {},
   "outputs": [],
   "source": []
  },
  {
   "cell_type": "code",
   "execution_count": null,
   "metadata": {},
   "outputs": [],
   "source": []
  }
 ],
 "metadata": {
  "kernelspec": {
   "display_name": "env",
   "language": "python",
   "name": "python3"
  },
  "language_info": {
   "codemirror_mode": {
    "name": "ipython",
    "version": 3
   },
   "file_extension": ".py",
   "mimetype": "text/x-python",
   "name": "python",
   "nbconvert_exporter": "python",
   "pygments_lexer": "ipython3",
   "version": "3.10.6"
  },
  "orig_nbformat": 4
 },
 "nbformat": 4,
 "nbformat_minor": 2
}
