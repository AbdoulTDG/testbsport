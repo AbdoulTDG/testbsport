{
 "cells": [
  {
   "attachments": {},
   "cell_type": "markdown",
   "metadata": {},
   "source": [
    "# Bibliothèques"
   ]
  },
  {
   "cell_type": "code",
   "execution_count": 142,
   "metadata": {},
   "outputs": [],
   "source": [
    "from hubspot.crm.contacts import SimplePublicObjectInput\n",
    "from hubspot.crm.contacts.exceptions import ApiException\n",
    "from hubspot import HubSpot\n"
   ]
  },
  {
   "attachments": {},
   "cell_type": "markdown",
   "metadata": {},
   "source": [
    "# Connection à l'API"
   ]
  },
  {
   "cell_type": "code",
   "execution_count": 143,
   "metadata": {},
   "outputs": [],
   "source": [
    "token=\"pat-eu1-52e0d25c-7a77-4128-bf28-4787e96528bf\"\n",
    "api_client = HubSpot(access_token=token)"
   ]
  },
  {
   "attachments": {},
   "cell_type": "markdown",
   "metadata": {},
   "source": [
    "# Calcul du montant total des deals sans pondération"
   ]
  },
  {
   "cell_type": "code",
   "execution_count": 144,
   "metadata": {},
   "outputs": [],
   "source": [
    "\n",
    "def total_deal_value():\n",
    "    \n",
    "    # Recupération des ids des deals (si on considère que tous les deals sont associés à une seule entreprise)\n",
    "    deals_id=[]\n",
    "    deals=api_client.crm.deals.get_all()\n",
    "    for deal in deals:\n",
    "        deals_id.append(deal.to_dict()[\"id\"])\n",
    "\n",
    "    # Calcul du montant\n",
    "    montant_deals=0\n",
    "    for id in deals_id:\n",
    "        deal_data=api_client.crm.deals.basic_api.get_by_id(id,properties=[\"amount\"]).to_dict()\n",
    "        montant_deals+=float(deal_data[\"properties\"][\"amount\"])\n",
    "    return montant_deals"
   ]
  },
  {
   "cell_type": "code",
   "execution_count": 146,
   "metadata": {},
   "outputs": [
    {
     "data": {
      "text/plain": [
       "1665098.0"
      ]
     },
     "execution_count": 146,
     "metadata": {},
     "output_type": "execute_result"
    }
   ],
   "source": [
    "# Résulat\n",
    "total_deal_value()"
   ]
  },
  {
   "attachments": {},
   "cell_type": "markdown",
   "metadata": {},
   "source": [
    "# Calcul du montant total des deals avec pondération"
   ]
  },
  {
   "cell_type": "code",
   "execution_count": 124,
   "metadata": {},
   "outputs": [],
   "source": [
    "def total_deal_value_weighted():\n",
    "\n",
    "    # Recupération des ids des deals (si on considère que tous les deals sont associés à une seule entreprise)\n",
    "    deals_id=[]\n",
    "    deals=api_client.crm.deals.get_all()\n",
    "    for deal in deals:\n",
    "        deals_id.append(deal.to_dict()[\"id\"])\n",
    "    \n",
    "    # Calcul du montant total des deals avec pondération\n",
    "    montant_deals_pond=0\n",
    "    for id in deals_id:\n",
    "        deal_data=api_client.crm.deals.basic_api.get_by_id(id,properties=[\"amount\",\"hs_deal_stage_probability\"]).to_dict()\n",
    "        montant_deals_pond+=float(deal_data[\"properties\"][\"amount\"]) * float(deal_data[\"properties\"][\"hs_deal_stage_probability\"])\n",
    "    return montant_deals_pond\n"
   ]
  },
  {
   "cell_type": "code",
   "execution_count": 147,
   "metadata": {},
   "outputs": [
    {
     "data": {
      "text/plain": [
       "513588.2"
      ]
     },
     "execution_count": 147,
     "metadata": {},
     "output_type": "execute_result"
    }
   ],
   "source": [
    "# Résultat\n",
    "total_deal_value_weighted()"
   ]
  },
  {
   "attachments": {},
   "cell_type": "markdown",
   "metadata": {},
   "source": [
    "### Update du montant d'un deal\n"
   ]
  },
  {
   "cell_type": "code",
   "execution_count": 148,
   "metadata": {},
   "outputs": [],
   "source": [
    "def update_deal(deal_id,amount):\n",
    "    try:\n",
    "        update_montant_deal = SimplePublicObjectInput(\n",
    "                    properties={\"amount\":amount})\n",
    "        api_client.crm.deals.basic_api.update(simple_public_object_input=update_montant_deal,deal_id=deal_id)\n",
    "        return print(f\"Deal {deal_id} updated\")\n",
    "    except ApiException as deal:\n",
    "        return print(\"Exception when updatin deal: %s\\n\" %deal)  \n",
    "    "
   ]
  },
  {
   "cell_type": "code",
   "execution_count": 149,
   "metadata": {},
   "outputs": [
    {
     "name": "stdout",
     "output_type": "stream",
     "text": [
      "Deal 7280660186 updated\n"
     ]
    }
   ],
   "source": [
    "# Résultat\n",
    "deal_id=\"7280660186\"\n",
    "amount=25000\n",
    "update_deal(deal_id,amount)"
   ]
  },
  {
   "attachments": {},
   "cell_type": "markdown",
   "metadata": {},
   "source": [
    "# # Calcul du nombre de contacts dont l'attribut En poste = Oui"
   ]
  },
  {
   "cell_type": "code",
   "execution_count": 150,
   "metadata": {},
   "outputs": [],
   "source": [
    "def count_en_poste(etat=\"Oui\"):\n",
    "\n",
    "    # Récupération des id des contacts\n",
    "    contacts_id=[]\n",
    "    contacts=api_client.crm.contacts.get_all()\n",
    "    for contact in contacts:\n",
    "        contacts_id.append(contact.to_dict()[\"id\"])\n",
    "\n",
    "    # Calcul du nombre de contact selon l'état de l'attribut en poste\n",
    "    cpt_en_poste=0\n",
    "    for id in contacts_id:\n",
    "        contact_data=api_client.crm.contacts.basic_api.get_by_id(id,properties=[\"en_poste\"]).to_dict()\n",
    "        if contact_data[\"properties\"][\"en_poste\"] == etat:\n",
    "            cpt_en_poste+=1\n",
    "    return cpt_en_poste"
   ]
  },
  {
   "cell_type": "code",
   "execution_count": 151,
   "metadata": {},
   "outputs": [
    {
     "data": {
      "text/plain": [
       "7"
      ]
     },
     "execution_count": 151,
     "metadata": {},
     "output_type": "execute_result"
    }
   ],
   "source": [
    "# Résultat\n",
    "count_en_poste()"
   ]
  },
  {
   "attachments": {},
   "cell_type": "markdown",
   "metadata": {},
   "source": [
    "# Nom et prénom du propriétaire actuel"
   ]
  },
  {
   "cell_type": "code",
   "execution_count": 152,
   "metadata": {},
   "outputs": [],
   "source": [
    "def get_owner():\n",
    "    owner_id=api_client.crm.companies.basic_api.get_by_id(7496989169,properties=[\"hubspot_owner_id\"]).to_dict()\n",
    "    owner_id=owner_id[\"properties\"][\"hubspot_owner_id\"]\n",
    "    owner_data=api_client.crm.owners.owners_api.get_by_id(owner_id).to_dict()\n",
    "    return [owner_data[\"first_name\"],owner_data[\"last_name\"]]"
   ]
  },
  {
   "cell_type": "code",
   "execution_count": 153,
   "metadata": {},
   "outputs": [
    {
     "data": {
      "text/plain": [
       "['Abd', 'TDG']"
      ]
     },
     "execution_count": 153,
     "metadata": {},
     "output_type": "execute_result"
    }
   ],
   "source": [
    "# Résultat\n",
    "get_owner()"
   ]
  },
  {
   "attachments": {},
   "cell_type": "markdown",
   "metadata": {},
   "source": [
    "# Mise à jour des infos de l'entreprise"
   ]
  },
  {
   "cell_type": "code",
   "execution_count": 154,
   "metadata": {},
   "outputs": [],
   "source": [
    "def update_company(comp_id=\"7496989169\"):\n",
    "        try:\n",
    "                update_montant_tot_deals = SimplePublicObjectInput(properties={\n",
    "                \"valeur_totale_des_deals\":total_deal_value() ,\n",
    "                \"valeur_totale_des_deals_ponderee\":total_deal_value_weighted(),\n",
    "                \"nombre_de_points_de_contacts_en_poste\": count_en_poste(),\n",
    "                \"nom_du_dirigeant\":get_owner()[1],\n",
    "                \"prenom_du_dirigeant\":get_owner()[0]})\n",
    "                api_client.crm.companies.basic_api.update(simple_public_object_input=update_montant_tot_deals,company_id=comp_id)\n",
    "                return print(\"company updated\")\n",
    "        except ApiException as update:\n",
    "                return print(\"Exception when updating company: %s\\n\" % update)\n",
    "        "
   ]
  },
  {
   "cell_type": "code",
   "execution_count": 155,
   "metadata": {},
   "outputs": [
    {
     "name": "stdout",
     "output_type": "stream",
     "text": [
      "company updated\n"
     ]
    }
   ],
   "source": [
    "# Résultat\n",
    "update_company()"
   ]
  },
  {
   "attachments": {},
   "cell_type": "markdown",
   "metadata": {},
   "source": [
    "# Récupération des infos de l'entreprise"
   ]
  },
  {
   "cell_type": "code",
   "execution_count": 130,
   "metadata": {},
   "outputs": [],
   "source": [
    "def comp_info(comp_id=\"7496989169\"):\n",
    "    company_data=api_client.crm.companies.basic_api.get_by_id(comp_id,properties=[\"name\",\"city\",\"country\",\"industry\",\n",
    "                                                                             \"nom_du_dirigeant\",\"prenom_du_dirigeant\",\n",
    "                                                                             \"numberofemployees\",\"valeur_totale_des_deals\",\n",
    "                                                                             \"valeur_totale_des_deals_ponderee\",\"num_associated_deals\",\n",
    "                                                                             \"nombre_de_points_de_contacts_en_poste\",\n",
    "                                                                             \"nombre_de_points_de_contacts_en_poste\"]).to_dict()\n",
    "    return company_data[\"properties\"]"
   ]
  },
  {
   "cell_type": "code",
   "execution_count": 156,
   "metadata": {},
   "outputs": [
    {
     "data": {
      "text/plain": [
       "{'city': 'Grenoble',\n",
       " 'country': 'France',\n",
       " 'createdate': '2023-04-28T09:53:40.624Z',\n",
       " 'hs_lastmodifieddate': '2023-05-01T00:17:15.484Z',\n",
       " 'hs_object_id': '7496989169',\n",
       " 'industry': 'INFORMATION_TECHNOLOGY_AND_SERVICES',\n",
       " 'name': 'ABD Labs',\n",
       " 'nom_du_dirigeant': 'TDG',\n",
       " 'nombre_de_points_de_contacts_en_poste': '7',\n",
       " 'num_associated_deals': '3',\n",
       " 'numberofemployees': '20',\n",
       " 'prenom_du_dirigeant': 'Abd',\n",
       " 'valeur_totale_des_deals': '690098.0',\n",
       " 'valeur_totale_des_deals_ponderee': '318588.2'}"
      ]
     },
     "execution_count": 156,
     "metadata": {},
     "output_type": "execute_result"
    }
   ],
   "source": [
    "# Résultat\n",
    "comp_info()"
   ]
  },
  {
   "cell_type": "code",
   "execution_count": null,
   "metadata": {},
   "outputs": [],
   "source": []
  }
 ],
 "metadata": {
  "kernelspec": {
   "display_name": "env",
   "language": "python",
   "name": "python3"
  },
  "language_info": {
   "codemirror_mode": {
    "name": "ipython",
    "version": 3
   },
   "file_extension": ".py",
   "mimetype": "text/x-python",
   "name": "python",
   "nbconvert_exporter": "python",
   "pygments_lexer": "ipython3",
   "version": "3.10.6"
  },
  "orig_nbformat": 4
 },
 "nbformat": 4,
 "nbformat_minor": 2
}
