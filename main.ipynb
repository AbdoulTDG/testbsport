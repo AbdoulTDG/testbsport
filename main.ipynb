{
 "cells": [
  {
   "cell_type": "code",
   "execution_count": 94,
   "metadata": {},
   "outputs": [],
   "source": [
    "# token\n",
    "\n",
    "\n",
    "# Bibliothèques\n",
    "from hubspot.crm.contacts import SimplePublicObjectInput\n",
    "from hubspot.crm.contacts.exceptions import ApiException\n",
    "from hubspot import HubSpot\n"
   ]
  },
  {
   "cell_type": "code",
   "execution_count": 68,
   "metadata": {},
   "outputs": [],
   "source": [
    "# Connection à l'API\n",
    "api_client = HubSpot(access_token=token)"
   ]
  },
  {
   "attachments": {},
   "cell_type": "markdown",
   "metadata": {},
   "source": [
    "# Valeur totale des deals avec et sans pondération"
   ]
  },
  {
   "attachments": {},
   "cell_type": "markdown",
   "metadata": {},
   "source": [
    "### Récupération des infos de l'entreprise"
   ]
  },
  {
   "cell_type": "code",
   "execution_count": 71,
   "metadata": {},
   "outputs": [
    {
     "data": {
      "text/plain": [
       "{'createdate': '2023-04-28T09:53:40.624Z',\n",
       " 'hs_lastmodifieddate': '2023-04-28T16:16:00.736Z',\n",
       " 'hs_object_id': '7496989169',\n",
       " 'hs_predictivecontactscore_v2': '3.6',\n",
       " 'valeur_totale_des_deals': '0',\n",
       " 'valeur_totale_des_deals_ponderee': '0'}"
      ]
     },
     "execution_count": 71,
     "metadata": {},
     "output_type": "execute_result"
    }
   ],
   "source": [
    "id=7496989169\n",
    "# Récupération de toute les propriété d'une entreprise\n",
    "# api_client.crm.properties.core_api.get_all(object_type=\"companies\")\n",
    "\n",
    "# properties=[\"name\",\"city\",\"country\",\"industry\",\"hs_analytics_num_visits\",\"hs_annual_revenue_currency_code\",\"total_money_raised\",\"total_revenue\",\"valeur_totale_des_deals\",\"valeur_totale_des_deals_ponderee\",\"owneremail\",\"numberofemployees\",\"hs_total_deal_value\",\"total_money_raised\",\"hs_predictivecontactscore_v2\",\"hs_target_account_probability\",\"hs_predictivecontactscore_v2_next_max_max_d4e58c1e\",\"num_associated_contacts\",\"num_conversion_events\",\"num_conversion_events_cardinality_sum_d095f14b\"]\n",
    "properties_needed=[\"hs_predictivecontactscore_v2\",\"valeur_totale_des_deals\",\"valeur_totale_des_deals_ponderee\"]\n",
    "company=api_client.crm.companies.basic_api.get_by_id(id,properties=properties_needed)\n",
    "company_data=company.to_dict()\n",
    "company_data[\"properties\"]"
   ]
  },
  {
   "attachments": {},
   "cell_type": "markdown",
   "metadata": {},
   "source": [
    "# Récupération des infos des deals"
   ]
  },
  {
   "cell_type": "code",
   "execution_count": 98,
   "metadata": {},
   "outputs": [
    {
     "data": {
      "text/plain": [
       "['7280660186', '7280697021', '7280697041']"
      ]
     },
     "execution_count": 98,
     "metadata": {},
     "output_type": "execute_result"
    }
   ],
   "source": [
    "# Recupération des ids des deals (si on considère que tous les deals sont associés à une seule entreprise)\n",
    "deals_id=[]\n",
    "deals=api_client.crm.deals.get_all()\n",
    "for deal in deals:\n",
    "    deals_id.append(deal.to_dict()[\"id\"])\n",
    "deals_id"
   ]
  },
  {
   "cell_type": "code",
   "execution_count": 100,
   "metadata": {},
   "outputs": [
    {
     "name": "stdout",
     "output_type": "stream",
     "text": [
      "Deal: 7280660186 \n",
      "{'amount': '25400', 'createdate': '2023-04-28T09:55:04.007Z', 'hs_deal_stage_probability': '0.200000000000000011102230246251565404236316680908203125', 'hs_lastmodifieddate': '2023-04-30T01:31:20.094Z', 'hs_object_id': '7280660186'}\n",
      "Deal: 7280697021 \n",
      "{'amount': '300000', 'createdate': '2023-04-28T09:56:12.025Z', 'hs_deal_stage_probability': '0.40000000000000002220446049250313080847263336181640625', 'hs_lastmodifieddate': '2023-04-29T12:14:08.235Z', 'hs_object_id': '7280697021'}\n",
      "Deal: 7280697041 \n",
      "{'amount': '80098', 'createdate': '2023-04-28T09:57:05.960Z', 'hs_deal_stage_probability': '0.90000000000000002220446049250313080847263336181640625', 'hs_lastmodifieddate': '2023-04-29T12:13:43.668Z', 'hs_object_id': '7280697041'}\n"
     ]
    }
   ],
   "source": [
    "# deal1=7280660186\n",
    "# deal2=7280697021\n",
    "# deal3=7280697041\n",
    "# Récupération de toute les propriété d'un deal\n",
    "# api_client.crm.properties.core_api.get_all(object_type=\"deals\")\n",
    "\n",
    "#properties=[\"amount\",\"hs_likelihood_to_close\",\"hs_predicted_amount\",\"hs_priority\",\"hs_closed_amount\",\"hs_deal_stage_probability\",\"hs_deal_stage_probability_shadow\",\"hs_forecast_amount\",\"hs_forecast_probability\",\"hs_is_closed\",\"hs_is_closed_won\",\"hs_projected_amount\",\"num_associated_contacts\"]\n",
    "properties_needed=[\"amount\",\"hs_deal_stage_probability\"]\n",
    "for id in deals_id :\n",
    "    deal=api_client.crm.deals.basic_api.get_by_id(id,properties=properties_needed)\n",
    "    deal_data=deal.to_dict()\n",
    "    print(f\"Deal: {id} \")\n",
    "    print(deal_data[\"properties\"])"
   ]
  },
  {
   "cell_type": "code",
   "execution_count": 101,
   "metadata": {},
   "outputs": [
    {
     "name": "stdout",
     "output_type": "stream",
     "text": [
      "405498.0\n"
     ]
    }
   ],
   "source": [
    "# Récupération du montant total des deals sans pondération\n",
    "#deals_id=[deal1,deal2,deal3]\n",
    "montant_deals=0\n",
    "for id in deals_id:\n",
    "    deal=api_client.crm.deals.basic_api.get_by_id(id)\n",
    "    deal_data=deal.to_dict()\n",
    "    montant_deals+=float(deal_data[\"properties\"][\"amount\"])\n",
    "print(montant_deals)\n"
   ]
  },
  {
   "cell_type": "code",
   "execution_count": 103,
   "metadata": {},
   "outputs": [
    {
     "name": "stdout",
     "output_type": "stream",
     "text": [
      "197168.2\n"
     ]
    }
   ],
   "source": [
    "# Récupération du montant total des deals avec pondération\n",
    "montant_deals_pond=0\n",
    "for id in deals_id:\n",
    "    deal=api_client.crm.deals.basic_api.get_by_id(id,properties=properties_needed)\n",
    "    deal_data=deal.to_dict()\n",
    "    montant_deals_pond+=float(deal_data[\"properties\"][\"amount\"]) * float(deal_data[\"properties\"][\"hs_deal_stage_probability\"])\n",
    "print(montant_deals_pond)"
   ]
  },
  {
   "cell_type": "code",
   "execution_count": 105,
   "metadata": {},
   "outputs": [
    {
     "data": {
      "text/plain": [
       "{'archived': False,\n",
       " 'archived_at': None,\n",
       " 'created_at': datetime.datetime(2023, 4, 28, 9, 53, 40, 624000, tzinfo=tzutc()),\n",
       " 'id': '7496989169',\n",
       " 'properties': {'createdate': '2023-04-28T09:53:40.624Z',\n",
       "                'hs_all_owner_ids': '911942887',\n",
       "                'hs_created_by_user_id': '51189390',\n",
       "                'hs_lastmodifieddate': '2023-04-30T01:39:28.980Z',\n",
       "                'hs_object_id': '7496989169',\n",
       "                'hs_pipeline': 'companies-lifecycle-pipeline',\n",
       "                'hs_updated_by_user_id': '51189390',\n",
       "                'hs_user_ids_of_all_owners': '51189390',\n",
       "                'hubspot_owner_assigneddate': '2023-04-28T09:53:40.624Z',\n",
       "                'hubspot_owner_id': '911942887',\n",
       "                'lifecyclestage': 'opportunity',\n",
       "                'valeur_totale_des_deals': '405498.0',\n",
       "                'valeur_totale_des_deals_ponderee': '197168.2'},\n",
       " 'properties_with_history': None,\n",
       " 'updated_at': datetime.datetime(2023, 4, 30, 1, 39, 28, 980000, tzinfo=tzutc())}"
      ]
     },
     "execution_count": 105,
     "metadata": {},
     "output_type": "execute_result"
    }
   ],
   "source": [
    "# Mise à jour des infos de l'entreprise\n",
    "comp_id=\"7496989169\"\n",
    "update_valeurs_deals = SimplePublicObjectInput(\n",
    "        properties={\n",
    "                \"valeur_totale_des_deals\":montant_deals ,\n",
    "                    \"valeur_totale_des_deals_ponderee\":montant_deals_pond})\n",
    "api_client.crm.companies.basic_api.update(simple_public_object_input=update_valeurs_deals,company_id=\"7496989169\")"
   ]
  },
  {
   "cell_type": "code",
   "execution_count": 106,
   "metadata": {},
   "outputs": [
    {
     "data": {
      "text/plain": [
       "{'city': 'Grenoble',\n",
       " 'country': 'France',\n",
       " 'createdate': '2023-04-28T09:53:40.624Z',\n",
       " 'hs_lastmodifieddate': '2023-04-30T01:39:28.980Z',\n",
       " 'hs_object_id': '7496989169',\n",
       " 'industry': 'INFORMATION_TECHNOLOGY_AND_SERVICES',\n",
       " 'name': 'company',\n",
       " 'num_associated_deals': '3',\n",
       " 'numberofemployees': '20',\n",
       " 'valeur_totale_des_deals': '405498.0',\n",
       " 'valeur_totale_des_deals_ponderee': '197168.2'}"
      ]
     },
     "execution_count": 106,
     "metadata": {},
     "output_type": "execute_result"
    }
   ],
   "source": [
    "# Récupération des infos après update\n",
    "id=7496989169\n",
    "# Récupération de toute les propriété d'une entreprise\n",
    "# api_client.crm.properties.core_api.get_all(object_type=\"companies\")\n",
    "\n",
    "# properties=[\"name\",\"city\",\"country\",\"industry\",\"hs_analytics_num_visits\",\"hs_annual_revenue_currency_code\",\"total_money_raised\",\"total_revenue\",\"valeur_totale_des_deals\",\"valeur_totale_des_deals_ponderee\",\"owneremail\",\"numberofemployees\",\"hs_total_deal_value\",\"total_money_raised\",\"hs_predictivecontactscore_v2\",\"hs_target_account_probability\",\"hs_predictivecontactscore_v2_next_max_max_d4e58c1e\",\"num_associated_contacts\",\"num_conversion_events\",\"num_conversion_events_cardinality_sum_d095f14b,\"num_associated_deals\"]\n",
    "properties_needed=[\"name\",\"city\",\"country\",\"industry\",\"numberofemployees\",\"valeur_totale_des_deals\",\"valeur_totale_des_deals_ponderee\",\"num_associated_deals\"]\n",
    "company=api_client.crm.companies.basic_api.get_by_id(id,properties=properties_needed)\n",
    "company_data=company.to_dict()\n",
    "company_data[\"properties\"]"
   ]
  },
  {
   "cell_type": "markdown",
   "metadata": {},
   "source": []
  }
 ],
 "metadata": {
  "kernelspec": {
   "display_name": "env",
   "language": "python",
   "name": "python3"
  },
  "language_info": {
   "codemirror_mode": {
    "name": "ipython",
    "version": 3
   },
   "file_extension": ".py",
   "mimetype": "text/x-python",
   "name": "python",
   "nbconvert_exporter": "python",
   "pygments_lexer": "ipython3",
   "version": "3.10.6"
  },
  "orig_nbformat": 4
 },
 "nbformat": 4,
 "nbformat_minor": 2
}
