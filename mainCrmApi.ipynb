{
 "cells": [
  {
   "cell_type": "code",
   "execution_count": 1,
   "metadata": {},
   "outputs": [],
   "source": [
    "# Import de la classe pour l'exploitation de l'API\n",
    "from crmApi import CrmApi"
   ]
  },
  {
   "cell_type": "code",
   "execution_count": 2,
   "metadata": {},
   "outputs": [],
   "source": [
    "# Token d'accès à l'API\n",
    "token=\"\""
   ]
  },
  {
   "cell_type": "code",
   "execution_count": 3,
   "metadata": {},
   "outputs": [],
   "source": [
    "# Instance pour l'exploitation de l'API\n",
    "api=CrmApi(token)"
   ]
  },
  {
   "cell_type": "code",
   "execution_count": 4,
   "metadata": {},
   "outputs": [
    {
     "data": {
      "text/plain": [
       "1665098.0"
      ]
     },
     "execution_count": 4,
     "metadata": {},
     "output_type": "execute_result"
    }
   ],
   "source": [
    "# Récupération du montant total des deals sans pondération\n",
    "api.total_deal_value()\n"
   ]
  },
  {
   "cell_type": "code",
   "execution_count": 5,
   "metadata": {},
   "outputs": [
    {
     "data": {
      "text/plain": [
       "513588.2"
      ]
     },
     "execution_count": 5,
     "metadata": {},
     "output_type": "execute_result"
    }
   ],
   "source": [
    "# Récupération du montant total des deals avec pondération\n",
    "api.total_deal_value_weighted()"
   ]
  },
  {
   "cell_type": "code",
   "execution_count": 6,
   "metadata": {},
   "outputs": [
    {
     "name": "stdout",
     "output_type": "stream",
     "text": [
      "Deal 7280660186 updated\n"
     ]
    }
   ],
   "source": [
    "# Update d'un deal\n",
    "deal_id=7280660186\n",
    "amount=1000000\n",
    "api.update_deal(deal_id,amount)"
   ]
  },
  {
   "cell_type": "code",
   "execution_count": 7,
   "metadata": {},
   "outputs": [
    {
     "data": {
      "text/plain": [
       "7"
      ]
     },
     "execution_count": 7,
     "metadata": {},
     "output_type": "execute_result"
    }
   ],
   "source": [
    "# Calcul du nombre de contacts dont En poste = Oui\n",
    "api.count_en_poste()"
   ]
  },
  {
   "cell_type": "code",
   "execution_count": 8,
   "metadata": {},
   "outputs": [
    {
     "data": {
      "text/plain": [
       "['Abd', 'TDG']"
      ]
     },
     "execution_count": 8,
     "metadata": {},
     "output_type": "execute_result"
    }
   ],
   "source": [
    "# Propriétaire actuel\n",
    "api.get_owner()"
   ]
  },
  {
   "cell_type": "code",
   "execution_count": 9,
   "metadata": {},
   "outputs": [
    {
     "name": "stdout",
     "output_type": "stream",
     "text": [
      "company updated\n"
     ]
    }
   ],
   "source": [
    "# Mise à jour des infos de l'entreprise\n",
    "api.update_company()"
   ]
  },
  {
   "cell_type": "code",
   "execution_count": 10,
   "metadata": {},
   "outputs": [
    {
     "data": {
      "text/plain": [
       "{'city': 'Grenoble',\n",
       " 'country': 'France',\n",
       " 'createdate': '2023-04-28T09:53:40.624Z',\n",
       " 'hs_lastmodifieddate': '2023-05-01T00:21:04.684Z',\n",
       " 'hs_object_id': '7496989169',\n",
       " 'industry': 'INFORMATION_TECHNOLOGY_AND_SERVICES',\n",
       " 'name': 'ABD Labs',\n",
       " 'nom_du_dirigeant': 'TDG',\n",
       " 'nombre_de_points_de_contacts_en_poste': '7',\n",
       " 'num_associated_deals': '3',\n",
       " 'numberofemployees': '20',\n",
       " 'prenom_du_dirigeant': 'Abd',\n",
       " 'valeur_totale_des_deals': '1665098.0',\n",
       " 'valeur_totale_des_deals_ponderee': '513588.2'}"
      ]
     },
     "execution_count": 10,
     "metadata": {},
     "output_type": "execute_result"
    }
   ],
   "source": [
    " # Récupération des infos de l'entreprise\n",
    "api.comp_info()"
   ]
  }
 ],
 "metadata": {
  "kernelspec": {
   "display_name": "env",
   "language": "python",
   "name": "python3"
  },
  "language_info": {
   "codemirror_mode": {
    "name": "ipython",
    "version": 3
   },
   "file_extension": ".py",
   "mimetype": "text/x-python",
   "name": "python",
   "nbconvert_exporter": "python",
   "pygments_lexer": "ipython3",
   "version": "3.10.6"
  },
  "orig_nbformat": 4
 },
 "nbformat": 4,
 "nbformat_minor": 2
}
